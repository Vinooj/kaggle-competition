{
  "nbformat": 4,
  "nbformat_minor": 0,
  "metadata": {
    "colab": {
      "provenance": []
    },
    "kernelspec": {
      "name": "python3",
      "display_name": "Python 3"
    },
    "language_info": {
      "name": "python"
    }
  },
  "cells": [
    {
      "cell_type": "code",
      "execution_count": null,
      "metadata": {
        "id": "deZ0puOKd9E1"
      },
      "outputs": [],
      "source": [
        "# prompt: Can you create the python function to print the scatter plot that accepts a plot title, test_sale_price, ensemble_pred based on the previous cell code\n",
        "\n",
        "def plot_scatter(plot_title, actual_values, predicted_values):\n",
        "    \"\"\"\n",
        "    Generates and displays a scatter plot comparing actual vs. predicted values.\n",
        "\n",
        "    Args:\n",
        "        plot_title (str): The title for the scatter plot.\n",
        "        actual_values (pd.Series or np.ndarray): The actual values.\n",
        "        predicted_values (pd.Series or np.ndarray): The predicted values.\n",
        "    \"\"\"\n",
        "    plt.figure(figsize=(10, 6))\n",
        "    plt.scatter(actual_values, predicted_values, alpha=0.5)\n",
        "    # Add a line representing perfect prediction\n",
        "    plt.plot([actual_values.min(), actual_values.max()],\n",
        "             [actual_values.min(), actual_values.max()], 'k--', lw=2)\n",
        "    plt.xlabel(\"Actual Values\")\n",
        "    plt.ylabel(\"Predicted Values\")\n",
        "    plt.title(plot_title)\n",
        "    plt.grid(True)\n",
        "    plt.show()\n",
        "\n",
        "\n",
        "def print_data(predicted_values):\n",
        "    output = pd.DataFrame({'Id': test_id,\n",
        "                       'SalePrice': predicted_values.squeeze()})\n",
        "    print(output.head())"
      ]
    }
  ]
}